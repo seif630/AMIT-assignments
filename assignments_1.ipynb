{
  "cells": [
    {
      "cell_type": "markdown",
      "metadata": {
        "id": "WNEWD9hoA2Lr"
      },
      "source": [
        "<img src=\"https://i.redd.it/6brfmxf7b8ga1.png\" alt=\"Italian Trulli\">\n"
      ]
    },
    {
      "cell_type": "markdown",
      "metadata": {
        "id": "ev3RXIw1Jas5"
      },
      "source": [
        "### Exercise on data types"
      ]
    },
    {
      "cell_type": "markdown",
      "metadata": {
        "id": "xSe8nXGyJs_j"
      },
      "source": [
        "## <font color='red'>What data type would that be?</font>"
      ]
    },
    {
      "cell_type": "markdown",
      "metadata": {
        "id": "j_-RJr75JlQr"
      },
      "source": [
        "#### x = 5\n",
        "#### print(type(x))"
      ]
    },
    {
      "cell_type": "markdown",
      "metadata": {
        "id": "9vglOoDPJ5Ou"
      },
      "source": [
        "#### x = \"Hello World\"\n",
        "#### print(type(x))\n"
      ]
    },
    {
      "cell_type": "markdown",
      "metadata": {
        "id": "luhdBZJkKDMT"
      },
      "source": [
        "#### x = 20.5\n",
        "#### print(type(x))"
      ]
    },
    {
      "cell_type": "markdown",
      "metadata": {
        "id": "N8OO1mGhKC9u"
      },
      "source": [
        "#### x = [\"apple\", \"banana\", \"cherry\"]\n",
        "#### print(type(x))"
      ]
    },
    {
      "cell_type": "markdown",
      "metadata": {
        "id": "cvV5m5_FKC2Y"
      },
      "source": [
        "#### x = (\"apple\", \"banana\", \"cherry\")\n",
        "#### print(type(x))"
      ]
    },
    {
      "cell_type": "markdown",
      "metadata": {
        "id": "v6tA1ZLGKSej"
      },
      "source": [
        "#### x = {\"name\" : \"John\", \"age\" : 36}\n",
        "#### print(type(x))"
      ]
    },
    {
      "cell_type": "markdown",
      "metadata": {
        "id": "sWMa3--SKbOz"
      },
      "source": [
        "#### x = True\n",
        "#### print(type(x))"
      ]
    },
    {
      "cell_type": "markdown",
      "metadata": {
        "id": "cV1O8CWnOD_A"
      },
      "source": [
        "## Exercise on Numbers"
      ]
    },
    {
      "cell_type": "markdown",
      "metadata": {
        "id": "66MX7NUrMOj9"
      },
      "source": [
        "#### Insert the correct syntax to convert x into a floating point number.\n",
        "\n"
      ]
    },
    {
      "cell_type": "code",
      "execution_count": null,
      "metadata": {
        "id": "mbA3Hg9WKz4S"
      },
      "outputs": [],
      "source": [
        "# x = 5\n",
        "# x =....(x)\n",
        "# print(x)"
      ]
    },
    {
      "cell_type": "markdown",
      "metadata": {
        "id": "PfSGwBekMbfe"
      },
      "source": [
        "### Insert the correct syntax to convert x into a integer.\n",
        "\n"
      ]
    },
    {
      "cell_type": "code",
      "execution_count": null,
      "metadata": {
        "id": "4u7ID11XMZ1z"
      },
      "outputs": [],
      "source": [
        "# x = 5.5\n",
        "# x =......(x)\n",
        "# print(x)"
      ]
    },
    {
      "cell_type": "markdown",
      "metadata": {
        "id": "QEHJkfIyOI3l"
      },
      "source": [
        "## Exercise on string"
      ]
    },
    {
      "cell_type": "markdown",
      "metadata": {
        "id": "vxDMzNuZM23J"
      },
      "source": [
        "### Use the `len()` function to print the length of the string.\n",
        "\n"
      ]
    },
    {
      "cell_type": "code",
      "execution_count": null,
      "metadata": {
        "id": "LnECWV7kMwtZ"
      },
      "outputs": [],
      "source": [
        "# x = \"Hello World\"\n",
        "# print(.........)"
      ]
    },
    {
      "cell_type": "markdown",
      "metadata": {
        "id": "B3G8CsbwNBzE"
      },
      "source": [
        "### Get the first character of the string txt.\n",
        "\n"
      ]
    },
    {
      "cell_type": "code",
      "execution_count": null,
      "metadata": {
        "id": "i82C_E7IM_N_"
      },
      "outputs": [],
      "source": [
        "# txt = \"Hello World\"\n",
        "# x = .........."
      ]
    },
    {
      "cell_type": "markdown",
      "metadata": {
        "id": "eujFCvXmNKL5"
      },
      "source": [
        "### Get the characters from index 2 to index 4 (llo).\n",
        "\n"
      ]
    },
    {
      "cell_type": "code",
      "execution_count": null,
      "metadata": {
        "id": "Spath1coNHS1"
      },
      "outputs": [],
      "source": [
        "# txt = \"Hello World\"\n",
        "#  x =........"
      ]
    },
    {
      "cell_type": "markdown",
      "metadata": {
        "id": "Rwv-8T_-NmeZ"
      },
      "source": [
        "##### Return the string without any whitespace at the beginning or the end.\n",
        "##### hint ` txt.strip()`\n"
      ]
    },
    {
      "cell_type": "code",
      "execution_count": null,
      "metadata": {
        "id": "pg7InD_MNgBU"
      },
      "outputs": [],
      "source": [
        "# txt = \" Hello World \"\n",
        "# x =.................."
      ]
    },
    {
      "cell_type": "markdown",
      "metadata": {
        "id": "gpoiVkmQOSc2"
      },
      "source": [
        "### Convert the value of `txt` to upper case.\n",
        "\n"
      ]
    },
    {
      "cell_type": "code",
      "execution_count": null,
      "metadata": {
        "id": "30sq8_UBOPpH"
      },
      "outputs": [],
      "source": [
        "# txt = \"Hello World\"\n",
        "# txt = ........\n"
      ]
    },
    {
      "cell_type": "markdown",
      "metadata": {
        "id": "-UpA2zFdOedr"
      },
      "source": [
        "### Convert the value of `txt` to lower case.\n",
        "\n"
      ]
    },
    {
      "cell_type": "code",
      "execution_count": null,
      "metadata": {
        "id": "eIYJ6Jp2OclU"
      },
      "outputs": [],
      "source": [
        "# txt = \"Hello World\"\n",
        "# txt = .........\n"
      ]
    },
    {
      "cell_type": "markdown",
      "metadata": {
        "id": "WGC7GEv4Op57"
      },
      "source": [
        "#### Replace the character` H` with a `J`"
      ]
    },
    {
      "cell_type": "code",
      "execution_count": null,
      "metadata": {
        "id": "asaMSta8OuXu"
      },
      "outputs": [],
      "source": [
        "# txt = \"Hello World\"\n",
        "# txt = txt. .......(...,... )"
      ]
    },
    {
      "cell_type": "markdown",
      "metadata": {
        "id": "fx_3gDLmO9c5"
      },
      "source": [
        "#### Insert the correct syntax to add a placeholder for the age parameter.\n",
        "\n"
      ]
    },
    {
      "cell_type": "code",
      "execution_count": null,
      "metadata": {
        "id": "pbF00OzXO_pd"
      },
      "outputs": [],
      "source": [
        "# age = 36\n",
        "# txt = f\"My name is John, and I am ......\"\n",
        "# print(txt)"
      ]
    },
    {
      "cell_type": "markdown",
      "metadata": {
        "id": "aMfwLHLFQJt5"
      },
      "source": [
        "### Exercise on Booleans"
      ]
    },
    {
      "cell_type": "markdown",
      "metadata": {
        "id": "5LwqGd-4X6fz"
      },
      "source": [
        "The statement below would print a Boolean value, which one?\n",
        "\n"
      ]
    },
    {
      "cell_type": "code",
      "execution_count": null,
      "metadata": {
        "id": "KE6bHyeFXwy_"
      },
      "outputs": [],
      "source": [
        "# print(10 > 9)\n",
        "# .............."
      ]
    },
    {
      "cell_type": "markdown",
      "metadata": {
        "id": "5qq9bEvzX8d4"
      },
      "source": [
        "The statement below would print a Boolean value, which one?\n",
        "\n"
      ]
    },
    {
      "cell_type": "code",
      "execution_count": null,
      "metadata": {
        "id": "36MAoCaZX2k9"
      },
      "outputs": [],
      "source": [
        "# print(10 == 9)\n",
        "# ............"
      ]
    },
    {
      "cell_type": "markdown",
      "metadata": {
        "id": "I9flckHvYFLD"
      },
      "source": [
        "The statement below would print a Boolean value, which one?\n",
        "\n"
      ]
    },
    {
      "cell_type": "code",
      "execution_count": null,
      "metadata": {
        "id": "vRTYkmrrYDcl"
      },
      "outputs": [],
      "source": [
        "# print(10 < 9)\n",
        "# ..........\n"
      ]
    },
    {
      "cell_type": "markdown",
      "metadata": {
        "id": "JRDSFOOWA4zY"
      },
      "source": [
        "### <font color='gold'>Exercise-1</font>"
      ]
    },
    {
      "cell_type": "markdown",
      "metadata": {
        "id": "Dx9awHoPBT5a"
      },
      "source": [
        "#### Write a Python program to print the following string in a specific format"
      ]
    },
    {
      "cell_type": "code",
      "execution_count": null,
      "metadata": {
        "id": "gfBPq-8u_zDb"
      },
      "outputs": [],
      "source": [
        "# Twinkle, twinkle, little star,\n",
        "# \tHow I wonder what you are!\n",
        "# \t\tUp above the world so high,\n",
        "# \t\tLike a diamond in the sky.\n",
        "# Twinkle, twinkle, little star,\n",
        "# \tHow I wonder what you are!"
      ]
    },
    {
      "cell_type": "markdown",
      "metadata": {
        "id": "G-u5KbN6B4YA"
      },
      "source": [
        "### <font color='gold'>Exercise-2</font>"
      ]
    },
    {
      "cell_type": "markdown",
      "metadata": {
        "id": "1bEAep2SCDB2"
      },
      "source": [
        "#### Write a Python program that print the user's first and last name and prints them in reverse order with a space between them."
      ]
    },
    {
      "cell_type": "markdown",
      "metadata": {
        "id": "VIq-DlzYCjcp"
      },
      "source": [
        "### <font color='gold'>Exercise-3</font>"
      ]
    },
    {
      "cell_type": "markdown",
      "metadata": {
        "id": "W2i_oZiJCg4W"
      },
      "source": [
        "#### Write a Python program that calculates the area of a circle and radius = 1.1"
      ]
    },
    {
      "cell_type": "code",
      "execution_count": null,
      "metadata": {},
      "outputs": [],
      "source": [
        "r=1.1\n",
        "area=3.14 *r**2"
      ]
    },
    {
      "cell_type": "markdown",
      "metadata": {
        "id": "3k4J4MTrDTTP"
      },
      "source": [
        "### <font color='gold'>Exercise-4</font>"
      ]
    },
    {
      "cell_type": "markdown",
      "metadata": {
        "id": "bODhD33ADPPZ"
      },
      "source": [
        "#### Write a Python program that accepts a filename from the user and prints the extension of the file."
      ]
    },
    {
      "cell_type": "markdown",
      "metadata": {
        "id": "IjgH1FN-DYQQ"
      },
      "source": [
        "Sample Output:\n",
        "Input the Filename: abc.java                                                                                  \n",
        "The  extension of the file is : 'java'"
      ]
    },
    {
      "cell_type": "code",
      "execution_count": null,
      "metadata": {},
      "outputs": [],
      "source": [
        "filename=\"abc.py\"\n",
        "f_exts=filename.split(\".\")\n",
        "print(f_exts[-1])"
      ]
    },
    {
      "cell_type": "markdown",
      "metadata": {
        "id": "hBSeDAHcEGPC"
      },
      "source": [
        "### <font color='gold'>Exercise-5</font>"
      ]
    },
    {
      "cell_type": "markdown",
      "metadata": {
        "id": "gnuQ4Hx2D722"
      },
      "source": [
        "#### Covert from string to list and tuple value =\"Amit\""
      ]
    },
    {
      "cell_type": "markdown",
      "metadata": {
        "id": "OQbk5DiyEosj"
      },
      "source": [
        " ## After that"
      ]
    },
    {
      "cell_type": "markdown",
      "metadata": {
        "id": "40fcwVkKEzUl"
      },
      "source": [
        "### Relace the index 3 in the list"
      ]
    },
    {
      "cell_type": "markdown",
      "metadata": {
        "id": "Ka4ECE3nFBzU"
      },
      "source": [
        " ### Convert the list to string and print the list"
      ]
    },
    {
      "cell_type": "markdown",
      "metadata": {
        "id": "lpeuOl7cFmn4"
      },
      "source": [
        "### <font color='gold'>Exercise-6</font>"
      ]
    },
    {
      "cell_type": "markdown",
      "metadata": {
        "id": "RuREUX33FqQZ"
      },
      "source": [
        "#### Write a Python program to display the first and last colors from the following list.\n",
        "\n"
      ]
    },
    {
      "cell_type": "markdown",
      "metadata": {
        "id": "53ptUyHGFt9I"
      },
      "source": [
        "#### color_list = [\"Red\",\"Green\",\"White\" ,\"Black\"]\n",
        "\n"
      ]
    },
    {
      "cell_type": "markdown",
      "metadata": {
        "id": "Jl5tkntZGH4P"
      },
      "source": [
        "<img src=\"https://www.w3resource.com/w3r_images/python-basic-image-exercise-8.png\" alt=\"Italian Trulli\">\n"
      ]
    },
    {
      "cell_type": "markdown",
      "metadata": {
        "id": "N7XOS7s1GlYW"
      },
      "source": [
        "## <font color='gold'>Exercise-7</font>"
      ]
    },
    {
      "cell_type": "markdown",
      "metadata": {
        "id": "atL1CkPLGhLS"
      },
      "source": [
        "#### Write a Python program to print the following 'here document'.\n",
        "\n"
      ]
    },
    {
      "cell_type": "code",
      "execution_count": null,
      "metadata": {
        "id": "YcD6QUiSGgq0"
      },
      "outputs": [],
      "source": [
        "#Sample Output:\n",
        "# a string that you \"don't\" have to escape\n",
        "# This\n",
        "# is a  ....... multi-line\n",
        "# heredoc string --------> example"
      ]
    },
    {
      "cell_type": "code",
      "execution_count": null,
      "metadata": {},
      "outputs": [],
      "source": [
        "print('''\n",
        "      \n",
        "      ''')"
      ]
    },
    {
      "cell_type": "code",
      "execution_count": null,
      "metadata": {},
      "outputs": [],
      "source": [
        "print(\"\\\"don't\\\"\")"
      ]
    },
    {
      "cell_type": "markdown",
      "metadata": {
        "id": "fUUhCO3Saeuy"
      },
      "source": [
        "## <font color='gold'>Exercise- 8</font>"
      ]
    },
    {
      "cell_type": "markdown",
      "metadata": {
        "id": "D_736VyMZcpE"
      },
      "source": [
        "###### I need to  check if  link `https://www.google.com/` strart with https or not and if the ` aimt4536@gmail.com` end with .com"
      ]
    },
    {
      "cell_type": "markdown",
      "metadata": {
        "id": "Mpx-aFeYbnqW"
      },
      "source": [
        "# Thanks ❤"
      ]
    },
    {
      "cell_type": "markdown",
      "metadata": {
        "id": "dO7ga00LbWSq"
      },
      "source": [
        "<img src=\"https://pbs.twimg.com/media/ELwC6EgXYAE8AtN.jpg\" alt=\"Italian Trulli\">\n"
      ]
    },
    {
      "cell_type": "code",
      "execution_count": null,
      "metadata": {
        "id": "hnMq3s6hbmCo"
      },
      "outputs": [],
      "source": []
    }
  ],
  "metadata": {
    "colab": {
      "private_outputs": true,
      "provenance": []
    },
    "kernelspec": {
      "display_name": "Python 3",
      "name": "python3"
    },
    "language_info": {
      "name": "python"
    }
  },
  "nbformat": 4,
  "nbformat_minor": 0
}
